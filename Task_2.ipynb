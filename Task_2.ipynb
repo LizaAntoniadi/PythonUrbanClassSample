{
  "nbformat": 4,
  "nbformat_minor": 0,
  "metadata": {
    "colab": {
      "provenance": [],
      "collapsed_sections": []
    },
    "kernelspec": {
      "name": "python3",
      "display_name": "Python 3"
    },
    "language_info": {
      "name": "python"
    }
  },
  "cells": [
    {
      "cell_type": "code",
      "execution_count": 7,
      "metadata": {
        "colab": {
          "base_uri": "https://localhost:8080/"
        },
        "id": "yOe_PZaRG33X",
        "outputId": "6a126b7b-19f8-4df5-e034-dd8d7983e95b"
      },
      "outputs": [
        {
          "output_type": "stream",
          "name": "stdout",
          "text": [
            "Индекс озеленения территории Пушкинравен 9.67%\n",
            "Индекс озеленения территории Павловскравен 10.27%\n",
            "Индекс озеленения территории Петергофравен 6.06%\n",
            "[9.67, 10.27, 6.06]\n"
          ]
        }
      ],
      "source": [
        "class GreenZoneIndex:\n",
        "    def __init__(self, territory_name, territory_area, green_zones):\n",
        "         self.territory_name = territory_name\n",
        "         self.territory_area = territory_area\n",
        "         self.green_zones = green_zones\n",
        "\n",
        "         self.green_index = self.calculate_green_index()\n",
        "\n",
        "    def calculate_green_index(self):\n",
        "        \n",
        "        green_index = sum(self.green_zones) / self.territory_area\n",
        "\n",
        "        return round(green_index * 100,2)\n",
        "\n",
        "list_territories = [\n",
        "    {\n",
        "        \"territory_name\": \"Пушкин\",\n",
        "        \"territory_area\": 28676,\n",
        "        \"green_zones\": [302, 487, 420, 325, 471, 363, 404]\n",
        "    },\n",
        "    {\n",
        "        \"territory_name\": \"Павловск\",\n",
        "        \"territory_area\": 21025,\n",
        "        \"green_zones\": [360, 375, 223, 258, 345, 296, 303]\n",
        "    },\n",
        "    {\n",
        "        \"territory_name\": \"Петергоф\",\n",
        "        \"territory_area\": 44274,\n",
        "        \"green_zones\": [364, 447, 438, 223, 336, 431, 442]\n",
        "    },\n",
        "]\n",
        "\n",
        "list_gr_index=[]\n",
        "\n",
        "for city_dict in list_territories:\n",
        "    territory_name = city_dict.get(\"territory_name\")\n",
        "    territory_area = city_dict.get(\"territory_area\")\n",
        "    green_zones = city_dict.get(\"green_zones\")\n",
        "\n",
        "    index_unv = GreenZoneIndex(territory_name, territory_area,green_zones)\n",
        "    index_unv.green_index\n",
        "\n",
        "    list_gr_index.append(index_unv.green_index)\n",
        "    print(\"Индекс озеленения территории \" + str(index_unv.territory_name) + \"равен \" + str(index_unv.green_index) + \"%\")\n",
        "\n",
        "print(list_gr_index)"
      ]
    }
  ]
}